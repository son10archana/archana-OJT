{
 "cells": [
  {
   "cell_type": "code",
   "execution_count": 10,
   "id": "92799e54",
   "metadata": {},
   "outputs": [
    {
     "name": "stdout",
     "output_type": "stream",
     "text": [
      "Matrix : A\n",
      "[[8 5 6 4 2]\n",
      " [5 5 1 2 4]\n",
      " [0 2 3 6 1]\n",
      " [6 4 8 3 8]\n",
      " [9 4 4 5 7]]\n"
     ]
    }
   ],
   "source": [
    "# Q2\n",
    "import numpy as np\n",
    "\n",
    "np.random.seed(49)\n",
    "\n",
    "A = np.random.randint(0, 10, size=(5, 5))\n",
    "print(\"Matrix : A\")\n",
    "print(A)"
   ]
  },
  {
   "cell_type": "code",
   "execution_count": 11,
   "id": "a74da01e",
   "metadata": {},
   "outputs": [
    {
     "name": "stdout",
     "output_type": "stream",
     "text": [
      "\n",
      "Row Echelon Form of Matrix A:\n",
      "[[1 0 0 0 0]\n",
      " [0 1 0 0 0]\n",
      " [0 0 1 0 0]\n",
      " [0 0 0 1 0]\n",
      " [0 0 0 0 1]]\n"
     ]
    }
   ],
   "source": [
    "# Convert the matrix to row echelon form\n",
    "def row_echelon_form(matrix):\n",
    "    m = len(matrix)\n",
    "    n = len(matrix[0])\n",
    "    lead = 0\n",
    "    for r in range(m):\n",
    "        if lead >= n:\n",
    "            break\n",
    "        i = r\n",
    "        while matrix[i, lead] == 0:\n",
    "            i += 1\n",
    "            if i == m:\n",
    "                i = r\n",
    "                lead += 1\n",
    "                if n == lead:\n",
    "                    break\n",
    "        matrix[[i, r]] = matrix[[r, i]]\n",
    "        if matrix[r, lead] != 0:\n",
    "            matrix[r] = matrix[r] / matrix[r, lead]\n",
    "        for i in range(m):\n",
    "            if i != r:-\n",
    "                matrix[i] = matrix[i] - matrix[i, lead] * matrix[r]\n",
    "        lead += 1\n",
    "    return matrix\n",
    "\n",
    "# Get the row echelon form of matrix_A\n",
    "row_echelon_A = row_echelon_form(A)\n",
    "print(\"\\nRow Echelon Form of Matrix A:\")\n",
    "print(row_echelon_A)\n"
   ]
  },
  {
   "cell_type": "code",
   "execution_count": null,
   "id": "381559b2",
   "metadata": {},
   "outputs": [],
   "source": []
  }
 ],
 "metadata": {
  "kernelspec": {
   "display_name": "Python 3 (ipykernel)",
   "language": "python",
   "name": "python3"
  },
  "language_info": {
   "codemirror_mode": {
    "name": "ipython",
    "version": 3
   },
   "file_extension": ".py",
   "mimetype": "text/x-python",
   "name": "python",
   "nbconvert_exporter": "python",
   "pygments_lexer": "ipython3",
   "version": "3.11.4"
  }
 },
 "nbformat": 4,
 "nbformat_minor": 5
}
