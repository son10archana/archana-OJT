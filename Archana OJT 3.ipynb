{
 "cells": [
  {
   "cell_type": "code",
   "execution_count": 1,
   "id": "ffebab55",
   "metadata": {},
   "outputs": [
    {
     "name": "stdout",
     "output_type": "stream",
     "text": [
      "Matrix : A\n",
      "[[8 5 6 4 2]\n",
      " [5 5 1 2 4]\n",
      " [0 2 3 6 1]\n",
      " [6 4 8 3 8]\n",
      " [9 4 4 5 7]]\n"
     ]
    }
   ],
   "source": [
    "import numpy as np\n",
    "\n",
    "np.random.seed(49)\n",
    "\n",
    "A = np.random.randint(0, 10, size=(5, 5))\n",
    "print(\"Matrix : A\")\n",
    "print(A)"
   ]
  },
  {
   "cell_type": "code",
   "execution_count": 2,
   "id": "037abf23",
   "metadata": {},
   "outputs": [
    {
     "name": "stdout",
     "output_type": "stream",
     "text": [
      "Matrix U:\n",
      "[[-0.25034994  0.32995395 -0.78176178  0.45016912 -0.12104375]\n",
      " [-0.59333573 -0.63993986 -0.25767711 -0.36256606 -0.20143993]\n",
      " [-0.26759758  0.66740283  0.07139887 -0.60427677 -0.33573322]\n",
      " [-0.29245431 -0.01838858  0.48482769  0.52114603 -0.63834259]\n",
      " [-0.6543238   0.18932166  0.28687164  0.1707338   0.65159213]]\n",
      "Matrix Sigma:\n",
      "[[2.42328002e+01 0.00000000e+00 0.00000000e+00 0.00000000e+00\n",
      "  0.00000000e+00]\n",
      " [0.00000000e+00 7.31682211e+00 0.00000000e+00 0.00000000e+00\n",
      "  0.00000000e+00]\n",
      " [0.00000000e+00 0.00000000e+00 4.49838976e+00 0.00000000e+00\n",
      "  0.00000000e+00]\n",
      " [0.00000000e+00 0.00000000e+00 0.00000000e+00 7.71568400e-16\n",
      "  0.00000000e+00]\n",
      " [0.00000000e+00 0.00000000e+00 0.00000000e+00 0.00000000e+00\n",
      "  3.25987873e-16]]\n",
      "Matrix V^T:\n",
      "[[-5.04767930e-01 -4.89470893e-01 -4.74173857e-01 -4.58876821e-01\n",
      "  -2.64988299e-01]\n",
      " [ 1.05493629e-01 -5.14490711e-02 -2.08391771e-01 -3.65334472e-01\n",
      "   8.99626412e-01]\n",
      " [ 6.58847806e-01  2.40356481e-01 -1.78134845e-01 -5.96626170e-01\n",
      "  -3.47064145e-01]\n",
      " [ 5.47719464e-01 -7.31664739e-01 -1.79828914e-01  3.63774189e-01\n",
      "   9.84458359e-17]\n",
      " [ 1.84089264e-03  4.05791461e-01 -8.17105600e-01  4.09473246e-01\n",
      "  -6.18763267e-17]]\n"
     ]
    }
   ],
   "source": [
    "# Perform Singular Value Decomposition (SVD)\n",
    "U, Sigma, VT = np.linalg.svd(A)\n",
    "print(\"Matrix U:\")\n",
    "print(U)\n",
    "\n",
    "print(\"Matrix Sigma:\")\n",
    "print(np.diag(Sigma))\n",
    "\n",
    "\n",
    "print(\"Matrix V^T:\")\n",
    "print(VT)\n"
   ]
  },
  {
   "cell_type": "code",
   "execution_count": 3,
   "id": "37dc52fb",
   "metadata": {},
   "outputs": [
    {
     "name": "stdout",
     "output_type": "stream",
     "text": [
      "Is A equal to the product of U, Sigma, and V^T?\n",
      "True\n"
     ]
    }
   ],
   "source": [
    "reconstructed_A = U @ np.diag(Sigma) @ VT\n",
    "print(\"Is A equal to the product of U, Sigma, and V^T?\")\n",
    "print(np.allclose(A, reconstructed_A))\n"
   ]
  },
  {
   "cell_type": "code",
   "execution_count": 4,
   "id": "20b75dff",
   "metadata": {},
   "outputs": [
    {
     "name": "stdout",
     "output_type": "stream",
     "text": [
      "Rank 2 approximation of A:\n",
      "[[ 3.31694977  2.84525423  2.37355868  1.90186314  3.77949022]\n",
      " [ 6.76369164  7.27860491  7.79351818  8.30843146 -0.40229319]\n",
      " [ 3.7883913   2.92280232  2.05721334  1.19162436  6.11147004]\n",
      " [ 3.56308987  3.47579599  3.38850211  3.30120823  1.75692744]\n",
      " [ 8.14978297  7.68982947  7.22987597  6.76992247  5.44787255]]\n",
      "\n",
      "Rank 3 approximation of A:\n",
      "[[1.00000000e+00 2.00000000e+00 3.00000000e+00 4.00000000e+00\n",
      "  5.00000000e+00]\n",
      " [6.00000000e+00 7.00000000e+00 8.00000000e+00 9.00000000e+00\n",
      "  1.73970435e-14]\n",
      " [4.00000000e+00 3.00000000e+00 2.00000000e+00 1.00000000e+00\n",
      "  6.00000000e+00]\n",
      " [5.00000000e+00 4.00000000e+00 3.00000000e+00 2.00000000e+00\n",
      "  1.00000000e+00]\n",
      " [9.00000000e+00 8.00000000e+00 7.00000000e+00 6.00000000e+00\n",
      "  5.00000000e+00]]\n"
     ]
    }
   ],
   "source": [
    "# Rank 2 approximation of A\n",
    "rank_2 = U[:, :2] @ np.diag(Sigma[:2]) @ VT[:2, :]\n",
    "print(\"Rank 2 approximation of A:\")\n",
    "print(rank_2)\n",
    "print()\n",
    "\n",
    "# Rank 3 approximation of A\n",
    "rank_3 = U[:, :3] @ np.diag(Sigma[:3]) @ VT[:3, :]\n",
    "print(\"Rank 3 approximation of A:\")\n",
    "print(rank_3)\n"
   ]
  },
  {
   "cell_type": "code",
   "execution_count": null,
   "id": "d2b00ca2",
   "metadata": {},
   "outputs": [],
   "source": []
  }
 ],
 "metadata": {
  "kernelspec": {
   "display_name": "Python 3 (ipykernel)",
   "language": "python",
   "name": "python3"
  },
  "language_info": {
   "codemirror_mode": {
    "name": "ipython",
    "version": 3
   },
   "file_extension": ".py",
   "mimetype": "text/x-python",
   "name": "python",
   "nbconvert_exporter": "python",
   "pygments_lexer": "ipython3",
   "version": "3.11.4"
  }
 },
 "nbformat": 4,
 "nbformat_minor": 5
}
